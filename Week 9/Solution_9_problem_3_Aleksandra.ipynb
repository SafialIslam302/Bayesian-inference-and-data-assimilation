{
 "cells": [
  {
   "cell_type": "code",
   "execution_count": 1,
   "id": "a4b7ed6a",
   "metadata": {},
   "outputs": [],
   "source": [
    "import numpy as np\n",
    "import matplotlib.pyplot as plt"
   ]
  },
  {
   "cell_type": "markdown",
   "id": "58069dca",
   "metadata": {},
   "source": [
    "### Exercise 3"
   ]
  },
  {
   "cell_type": "markdown",
   "id": "9ef3e12d",
   "metadata": {},
   "source": [
    "#### (ii) MAP estimator using gradient descent"
   ]
  },
  {
   "cell_type": "markdown",
   "id": "8f50fdc3",
   "metadata": {},
   "source": [
    "In $(i)$ we've got\n",
    "$$\\pi (x | y_{obs} = 2) \\propto exp(1/8 (-4x^4 + 15 x^2 + 4 x - 20))$$"
   ]
  },
  {
   "cell_type": "markdown",
   "id": "9ea74f57",
   "metadata": {},
   "source": [
    "Now we need to maximize this function.\n",
    "We can apply a log function  : log is monotonically increasing, and log(f(x)) has the same maxima as f(x). So, we'll further work with \n",
    "$$f(x) = -4x^4 + 15 x^2 + 4 x - 20$$\n",
    "(We can drop the coefficient $1/8$ because it doesn't affect the maximum either.)\n",
    "This function has the derivative\n",
    "$$\\frac{df(x)}{dx} = -16x^3+30x+4$$\n",
    "which we'll use for the gradient descent."
   ]
  },
  {
   "cell_type": "code",
   "execution_count": 2,
   "id": "0ba334b9",
   "metadata": {},
   "outputs": [],
   "source": [
    "def df(x):\n",
    "    return -16*(x**3) + 30*x + 4"
   ]
  },
  {
   "cell_type": "code",
   "execution_count": 3,
   "id": "810de08c",
   "metadata": {},
   "outputs": [],
   "source": [
    "def map_grad_descent(x0, step=0.001, eps=0.001):\n",
    "    x = x0\n",
    "    dfx = np.infty\n",
    "    while abs(dfx) > eps:\n",
    "        dfx = df(x)\n",
    "        x = x + step * dfx\n",
    "        \n",
    "    return x"
   ]
  },
  {
   "cell_type": "code",
   "execution_count": 4,
   "id": "1eed889e",
   "metadata": {},
   "outputs": [
    {
     "name": "stdout",
     "output_type": "stream",
     "text": [
      "m = 1.4316375647527306\n"
     ]
    }
   ],
   "source": [
    "m = map_grad_descent(0)\n",
    "print(\"m =\", m)"
   ]
  },
  {
   "cell_type": "markdown",
   "id": "735e802f",
   "metadata": {},
   "source": [
    "Using gradient descent, we can find only one local maximum. With X0=-1, it converges to another local maximum:"
   ]
  },
  {
   "cell_type": "code",
   "execution_count": 5,
   "id": "5840161a",
   "metadata": {},
   "outputs": [
    {
     "name": "stdout",
     "output_type": "stream",
     "text": [
      "m' = -1.2969976296065684\n"
     ]
    }
   ],
   "source": [
    "m_ = map_grad_descent(-1)\n",
    "print(\"m' =\", m_)"
   ]
  },
  {
   "cell_type": "markdown",
   "id": "ba0cb76d",
   "metadata": {},
   "source": [
    "We'll use the 1st value (m = 1.432) in the further calculations."
   ]
  },
  {
   "cell_type": "markdown",
   "id": "958c31ff",
   "metadata": {},
   "source": [
    "#### (iii) Laplace approximation"
   ]
  },
  {
   "cell_type": "markdown",
   "id": "b78c417b",
   "metadata": {},
   "source": [
    "$$\\pi (x | y_{obs} = 2) \\propto exp(-g(x))$$\n",
    "with $g(x) = \\frac{1}{8} (4x^4 - 15x^2 -4x + 20)$\\\n",
    "Second derivative:\n",
    "$$g''(x) = \\frac{1}{8} (48 x^2 - 30) = 6x^2 - \\frac{15}{4}$$\n",
    "Plug in $x = m = 1.432$ (MAP estimator from $(ii)$):"
   ]
  },
  {
   "cell_type": "code",
   "execution_count": 6,
   "id": "eff4c806",
   "metadata": {},
   "outputs": [
    {
     "name": "stdout",
     "output_type": "stream",
     "text": [
      "ddg(m) = 8.547516700866773\n"
     ]
    }
   ],
   "source": [
    "ddg = 6 * (m**2) - 15/4\n",
    "print(\"ddg(m) =\", ddg)"
   ]
  },
  {
   "cell_type": "markdown",
   "id": "1d16a9e4",
   "metadata": {},
   "source": [
    "Inverse of $g''(m)$:"
   ]
  },
  {
   "cell_type": "code",
   "execution_count": 7,
   "id": "678b8468",
   "metadata": {},
   "outputs": [
    {
     "name": "stdout",
     "output_type": "stream",
     "text": [
      "ddg_inv(m) = 0.11699304429537923\n"
     ]
    }
   ],
   "source": [
    "ddg_inv = 1 / ddg\n",
    "print(\"ddg_inv(m) =\", ddg_inv)"
   ]
  },
  {
   "cell_type": "markdown",
   "id": "fbbad8d5",
   "metadata": {},
   "source": [
    "So, the Laplace approximation to the posterior of $X$ is $\\tilde\\pi = N(1.432, 0.117)$"
   ]
  },
  {
   "cell_type": "markdown",
   "id": "ad43f818",
   "metadata": {},
   "source": [
    "#### (iv) Histograms of samples"
   ]
  },
  {
   "cell_type": "markdown",
   "id": "0af428fe",
   "metadata": {},
   "source": [
    "Laplace approximation:"
   ]
  },
  {
   "cell_type": "code",
   "execution_count": 8,
   "id": "880f0e20",
   "metadata": {},
   "outputs": [
    {
     "data": {
      "image/png": "[encoded data removed]",
      "text/plain": [
       "<Figure size 432x288 with 1 Axes>"
      ]
     },
     "metadata": {
      "needs_background": "light"
     },
     "output_type": "display_data"
    }
   ],
   "source": [
    "N = 10000\n",
    "lapl = np.random.normal(m, ddg_inv, N)\n",
    "    \n",
    "plt.hist(lapl,bins=60);\n",
    "    "
   ]
  },
  {
   "cell_type": "markdown",
   "id": "251484c9",
   "metadata": {},
   "source": [
    "Langevin SDE:"
   ]
  },
  {
   "cell_type": "code",
   "execution_count": 9,
   "id": "fd7f3b96",
   "metadata": {},
   "outputs": [],
   "source": [
    "def nabla_g(x):\n",
    "    return 1/8*(16*(x**3)-30*x-4)"
   ]
  },
  {
   "cell_type": "code",
   "execution_count": 10,
   "id": "dd313436",
   "metadata": {
    "scrolled": true
   },
   "outputs": [
    {
     "data": {
      "image/png": "[encoded data removed]",
      "text/plain": [
       "<Figure size 432x288 with 1 Axes>"
      ]
     },
     "metadata": {
      "needs_background": "light"
     },
     "output_type": "display_data"
    }
   ],
   "source": [
    "N = 10000\n",
    "T = 100000\n",
    "dt=0.001\n",
    "lang = np.empty((N,T))\n",
    "lang[:,0] = 0\n",
    "for i in range(1, T):\n",
    "    lang[:,i] = lang[:,i-1] - dt*nabla_g(lang[:,i-1]) + np.sqrt(2*dt)*np.random.normal(0, 1, N)\n",
    "\n",
    "plt.hist(lang[:,T-1],bins=60);"
   ]
  },
  {
   "cell_type": "markdown",
   "id": "15cbfdce",
   "metadata": {},
   "source": [
    "The histogram obtained from the Laplassian approximation has only one peak, and the histogram obtained via Langevin SDE has two peaks, one of which corresponds to the only peak of approximation. The reason is that we use normal distribution in attempt to approximate a more complex distribution. As a result, only one peak was conserved. If we would use another initial point for gradient descent, the other peak would be conserved."
   ]
  }
 ],
 "metadata": {
  "kernelspec": {
   "display_name": "Python 3 (ipykernel)",
   "language": "python",
   "name": "python3"
  },
  "language_info": {
   "codemirror_mode": {
    "name": "ipython",
    "version": 3
   },
   "file_extension": ".py",
   "mimetype": "text/x-python",
   "name": "python",
   "nbconvert_exporter": "python",
   "pygments_lexer": "ipython3",
   "version": "3.9.7"
  }
 },
 "nbformat": 4,
 "nbformat_minor": 5
}
